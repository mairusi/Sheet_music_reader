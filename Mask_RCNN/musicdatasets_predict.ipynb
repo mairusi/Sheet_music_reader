{
  "nbformat": 4,
  "nbformat_minor": 0,
  "metadata": {
    "colab": {
      "name": "musicdatasets_predict.ipynb",
      "provenance": [],
      "collapsed_sections": []
    },
    "kernelspec": {
      "name": "python3",
      "display_name": "Python 3"
    },
    "accelerator": "GPU"
  },
  "cells": [
    {
      "cell_type": "code",
      "metadata": {
        "id": "uHQsogxif_f-",
        "colab_type": "code",
        "outputId": "29a5582a-1454-4b23-94b2-87b2333180b9",
        "colab": {
          "base_uri": "https://localhost:8080/",
          "height": 54
        }
      },
      "source": [
        "from google.colab import drive\n",
        "drive.mount('/content/drive')"
      ],
      "execution_count": 0,
      "outputs": [
        {
          "output_type": "stream",
          "text": [
            "Drive already mounted at /content/drive; to attempt to forcibly remount, call drive.mount(\"/content/drive\", force_remount=True).\n"
          ],
          "name": "stdout"
        }
      ]
    },
    {
      "cell_type": "code",
      "metadata": {
        "id": "TSDyzuoZgMJo",
        "colab_type": "code",
        "colab": {}
      },
      "source": [
        "import os\n",
        "os.chdir('/content/drive/My Drive/ML and Image/Sheet_music_reader_Project/Mask_RCNN')"
      ],
      "execution_count": 0,
      "outputs": []
    },
    {
      "cell_type": "code",
      "metadata": {
        "id": "n8eGOxBFgOVv",
        "colab_type": "code",
        "colab": {}
      },
      "source": [
        "# detect kangaroos in photos with mask rcnn model\n",
        "from os import listdir\n",
        "from xml.etree import ElementTree\n",
        "from numpy import zeros\n",
        "from numpy import asarray\n",
        "from numpy import expand_dims\n",
        "from matplotlib import pyplot\n",
        "from matplotlib.patches import Rectangle\n",
        "from mrcnn.config import Config\n",
        "from mrcnn.model import MaskRCNN\n",
        "from mrcnn.model import mold_image\n",
        "from mrcnn.utils import Dataset\n",
        "import cv2\n",
        "from google.colab.patches import cv2_imshow"
      ],
      "execution_count": 0,
      "outputs": []
    },
    {
      "cell_type": "code",
      "metadata": {
        "id": "perMLRiTgQzW",
        "colab_type": "code",
        "colab": {}
      },
      "source": [
        "# class that defines and loads the kangaroo dataset\n",
        "class MusicDataset(Dataset):\n",
        "\t# load the dataset definitions\n",
        "\tdef load_dataset(self, dataset_dir, is_train=True):\n",
        "\t\t# define one class\n",
        "\t\tself.add_class(\"dataset\", 1, \"treble\")\n",
        "\t\tself.add_class(\"dataset\", 2, \"bass\")\n",
        "\t\tself.add_class(\"dataset\", 3, \"black note\")\n",
        "\t\tself.add_class(\"dataset\", 4, \"white note\")\n",
        "\t\tself.add_class(\"dataset\", 5, \"whole note\")\n",
        "\n",
        "\t\t# define data locations\n",
        "\t\timages_dir = dataset_dir + '/images/'\n",
        "\t\tannotations_dir = dataset_dir + '/annots/'\n",
        "\t\t# find all images\n",
        "\t\tfor filename in listdir(images_dir):\n",
        "\t\t\t# extract image id\n",
        "\t\t\timage_id = filename[:-4]\n",
        "\t\t\t# skip bad images\n",
        "\t\t\tif image_id in ['00201']:\n",
        "\t\t\t\tcontinue\n",
        "\t\t\t# skip all images after 150 if we are building the train set\n",
        "\t\t\tif is_train and int(image_id) >= 177 and int(image_id) <= 196:\n",
        "\t\t\t\tcontinue\n",
        "\t\t\t# skip all images before 150 if we are building the test/val set\n",
        "\t\t\tif not is_train and int(image_id) < 177 and int(image_id) > 196:\n",
        "\t\t\t\tcontinue\n",
        "\t\t\timg_path = images_dir + filename\n",
        "\t\t\tann_path = annotations_dir + image_id + '.xml'\n",
        "\t\t\t# add to dataset\n",
        "\t\t\tself.add_image('dataset', image_id=image_id, path=img_path, annotation=ann_path)\n",
        " \n",
        "\t# extract bounding boxes from an annotation file\n",
        "\tdef extract_boxes(self, filename, className = 'all'):\n",
        "\t\t# load and parse the file\n",
        "\t\ttree = ElementTree.parse(filename)\n",
        "\t\t# print('tree : {}' .format(tree))\n",
        "\t\t# get the root of the document\n",
        "\t\troot = tree.getroot()\n",
        "\n",
        "\t\tboxes = list()\n",
        "\t\t# extract each bounding box\n",
        "\t\tfor Object in root.findall('object'):\n",
        "\t\t\tName = Object.find('name')\n",
        "\t\t\t# print(Name.text)\n",
        "\t\t\t#\tcan change interest box from this\n",
        "\t\t\tif Name.text != className and className != 'all':\n",
        "\t\t\t\tcontinue\n",
        "\t\t\tbox = Object.find('bndbox')\n",
        "\t\t\txmin = int(box.find('xmin').text)\n",
        "\t\t\tymin = int(box.find('ymin').text)\n",
        "\t\t\txmax = int(box.find('xmax').text)\n",
        "\t\t\tymax = int(box.find('ymax').text)\n",
        "\t\t\t#\tadd box and class name in list\n",
        "\t\t\tcoors = [xmin, ymin, xmax, ymax, Name.text]\n",
        "\t\t\tboxes.append(coors)\n",
        "\t\t\n",
        "\t\t# extract image dimensions\n",
        "\t\twidth = int(root.find('.//size/width').text)\n",
        "\t\theight = int(root.find('.//size/height').text)\n",
        "\t\treturn boxes, width, height\n",
        " \n",
        "\t# load the masks for an image\n",
        "\tdef load_mask(self, image_id, className = 'all'):\n",
        "\t\t# get details of image\n",
        "\t\tinfo = self.image_info[image_id]\n",
        "\t\t# print('info : {}' .format(info))\n",
        "\t\t# define box file location\n",
        "\t\tpath = info['annotation']\n",
        "\t\t# load XML\n",
        "\t\tboxes, w, h = self.extract_boxes(path, className)\n",
        "\t\t# create one array for all masks, each on a different channel\n",
        "\t\tmasks = zeros([h, w, len(boxes)], dtype='uint8')\n",
        "\t\t# create masks\n",
        "\t\tclass_ids = list()\n",
        "\t\tfor i in range(len(boxes)):\n",
        "\t\t\tbox = boxes[i]\n",
        "\t\t\trow_s, row_e = box[1], box[3]\n",
        "\t\t\tcol_s, col_e = box[0], box[2]\n",
        "\t\t\tmasks[row_s:row_e, col_s:col_e, i] = 1\n",
        "\t\t\t# if image_id == 4:\n",
        "\t\t\t# \tprint('class_names : {}' .format(box[4]))\n",
        "\t\t\tclass_ids.append(self.class_names.index(box[4]))\n",
        "\t\treturn masks, asarray(class_ids, dtype='int32')\n",
        " \n",
        "\t# load an image reference\n",
        "\tdef image_reference(self, image_id):\n",
        "\t\tinfo = self.image_info[image_id]\n",
        "\t\treturn info['path']"
      ],
      "execution_count": 0,
      "outputs": []
    },
    {
      "cell_type": "code",
      "metadata": {
        "id": "AhjeEbCegVRH",
        "colab_type": "code",
        "colab": {}
      },
      "source": [
        "# define the prediction configuration\n",
        "class PredictionConfig(Config):\n",
        "\t# define the name of the configuration\n",
        "\tNAME = \"musicdatasets_cfg\"\n",
        "\t# number of classes (background + kangaroo)\n",
        "\tNUM_CLASSES = 1 + 5\n",
        "\t# simplify GPU config\n",
        "\tGPU_COUNT = 1\n",
        "\tIMAGES_PER_GPU = 1"
      ],
      "execution_count": 0,
      "outputs": []
    },
    {
      "cell_type": "code",
      "metadata": {
        "id": "l10jNWcV5FpE",
        "colab_type": "code",
        "colab": {}
      },
      "source": [
        "def classIdToClassName(classId):\n",
        "  classNameList = ['treble', 'bass', 'blacknote', 'whitenote', 'wholenote']\n",
        "  return classNameList[classId-1]"
      ],
      "execution_count": 0,
      "outputs": []
    },
    {
      "cell_type": "code",
      "metadata": {
        "id": "pdAKrEOYgWr_",
        "colab_type": "code",
        "colab": {}
      },
      "source": [
        "# plot a number of photos with ground truth and predictions\n",
        "def musicdatasets_predicted(model, cfg, path):\n",
        "\t''' format of detectedDict\n",
        "\t\t{\n",
        "\t\t\t'treble' : [ [x1, y1, x2, y2], [x1, y1, x2, y2], ... ]\n",
        "\t\t\t'bass' : [ [x1, y1, x2, y2], [x1, y1, x2, y2], ... ]\n",
        "\t\t\t'blacknote' : [ [x1, y1, x2, y2], [x1, y1, x2, y2], ... ]\n",
        "\t\t\t'whitenote' : [ [x1, y1, x2, y2], [x1, y1, x2, y2], ... ]\n",
        "\t\t\t'wholenote' : [ [x1, y1, x2, y2], [x1, y1, x2, y2], ... ]\n",
        "\t\t}\n",
        "\n",
        "\t\t** Xcoor, Ycoor -> list()\n",
        "\n",
        "\t\tRETURN : detectedDict\n",
        "\t'''\n",
        "\t# load the image and mask\n",
        "\timage = cv2.imread(path)\n",
        "\t# convert pixel values (e.g. center)\n",
        "\tscaled_image = mold_image(image, cfg)\n",
        "\t# convert image into one sample\n",
        "\tsample = expand_dims(scaled_image, 0)\n",
        "\t# make prediction\n",
        "\tyhat = model.detect(sample, verbose=0)[0]\n",
        "\tdetectedDict = { 'treble' : [], 'bass' : [], 'blacknote' : [], 'whitenote' : [], 'wholenote' : [] }\n",
        "\n",
        "\tfor index in range( len(yhat['class_ids']) ):\n",
        "\t\tclassName = classIdToClassName( int(yhat['class_ids'][index]) )\n",
        "\t\ty1, x1, y2, x2 = yhat['rois'][index]\n",
        "\t\t# create the shape\n",
        "\t\timage = cv2.rectangle( image, (x1, y1), (x2, y2), (255, 0, 0), 2 )\n",
        "\t\tdetectedDict[className].append( [x1, y1, x2, y2] )\n",
        "\t\n",
        "\timageHeight = image.shape[0]\n",
        "\timageWidth = image.shape[1]\n",
        "\timage = cv2.resize(image, ( int(imageWidth/3), int(imageHeight/3)) )\n",
        "\tcv2_imshow(image)\n",
        "\n",
        "\treturn detectedDict"
      ],
      "execution_count": 0,
      "outputs": []
    },
    {
      "cell_type": "code",
      "metadata": {
        "id": "RYdA9FCqgYgt",
        "colab_type": "code",
        "outputId": "53baf1ec-2aeb-4259-d0f2-04e4efefd03f",
        "colab": {
          "base_uri": "https://localhost:8080/",
          "height": 274
        }
      },
      "source": [
        "# load the train dataset\n",
        "train_set = MusicDataset()\n",
        "train_set.load_dataset('datasets', is_train=True)\n",
        "train_set.prepare()\n",
        "print('Train: %d' % len(train_set.image_ids))\n",
        "# load the test dataset\n",
        "test_set = MusicDataset()\n",
        "test_set.load_dataset('datasets', is_train=False)\n",
        "test_set.prepare()\n",
        "print('Test: %d' % len(test_set.image_ids))\n",
        "# create config\n",
        "cfg = PredictionConfig()\n",
        "# define the model\n",
        "model = MaskRCNN(mode='inference', model_dir='./', config=cfg)\n",
        "# load model weights\n",
        "model_path = 'mask_rcnn_musicdatasets_cfg_0050.h5'\n",
        "model.load_weights(model_path, by_name=True)\n",
        "\n",
        "imageFile = '00002.png'\n",
        "\n",
        "# plot predictions for train dataset\n",
        "detectedDict = musicdatasets_predicted(model, cfg, path = imageFile)\n",
        "print('detectedDict : ', detectedDict)"
      ],
      "execution_count": 0,
      "outputs": [
        {
          "output_type": "stream",
          "text": [
            "Train: 240\n",
            "Test: 260\n"
          ],
          "name": "stdout"
        },
        {
          "output_type": "display_data",
          "data": {
            "image/png": "[encoded data removed]",
            "text/plain": [
              "<PIL.Image.Image image mode=RGB size=499x186 at 0x7F2561E7EDD8>"
            ]
          },
          "metadata": {
            "tags": []
          }
        },
        {
          "output_type": "stream",
          "text": [
            "detectedDict :  {'treble': [[56, 253, 148, 514]], 'bass': [], 'blacknote': [[1029, 388, 1084, 433], [1338, 464, 1394, 504], [475, 444, 531, 484], [1408, 482, 1463, 522], [340, 479, 394, 522], [961, 372, 1020, 411], [790, 372, 845, 411], [408, 463, 462, 505], [1167, 426, 1221, 467], [1099, 408, 1153, 448], [544, 426, 598, 466], [1272, 446, 1325, 484], [856, 353, 911, 393], [650, 409, 703, 447], [717, 391, 773, 430], [734, 63, 767, 85], [201, 355, 279, 426], [827, 62, 851, 84], [445, 94, 512, 151], [403, 62, 433, 82], [1292, 62, 1322, 84], [565, 62, 588, 84], [910, 160, 937, 183], [1244, 96, 1301, 157]], 'whitenote': [], 'wholenote': []}\n"
          ],
          "name": "stdout"
        }
      ]
    },
    {
      "cell_type": "code",
      "metadata": {
        "id": "ofuHG-8P5knr",
        "colab_type": "code",
        "colab": {}
      },
      "source": [
        "with open(\"music_notation_location.txt\", \"w\") as f:\n",
        "    f.write('{}\\n' .format(imageFile))\n",
        "    f.write(str(detectedDict))"
      ],
      "execution_count": 0,
      "outputs": []
    }
  ]
}